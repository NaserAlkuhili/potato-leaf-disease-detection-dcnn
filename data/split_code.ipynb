{
 "cells": [
  {
   "cell_type": "markdown",
   "metadata": {},
   "source": [
    "This script splits the original dataset (which I used to store in `../data`) into three parts: \n",
    "training, validation, and test sets, following a 70-20-10 distribution ratio. \n",
    "Each class in the dataset has its own folder within `../data`, and the script \n",
    "creates new directories (`train`, `val`, and `test`). The file was later uploaded to google drive due to it being large.\n",
    "\n",
    "For each class:\n",
    "    - 70% of the images are moved to the training set (`train` directory)\n",
    "    - 20% of the images are moved to the validation set (`val` directory)\n",
    "    - 10% of the images are moved to the test set (`test` directory)\n",
    "\n",
    "The script shuffles the data for each class before splitting to ensure randomness and copies the files into the respective directories."
   ]
  },
  {
   "cell_type": "code",
   "execution_count": null,
   "metadata": {},
   "outputs": [],
   "source": [
    "import os\n",
    "import shutil\n",
    "import random\n",
    "\n",
    "# Paths\n",
    "data_dir = '../data'\n",
    "output_dir = '../split_data'\n",
    "train_dir = os.path.join(output_dir, 'train')\n",
    "val_dir = os.path.join(output_dir, 'val')\n",
    "test_dir = os.path.join(output_dir, 'test')\n",
    "\n"
   ]
  },
  {
   "cell_type": "code",
   "execution_count": null,
   "metadata": {},
   "outputs": [],
   "source": [
    "\n",
    "# Ratios for split\n",
    "train_ratio = 0.7\n",
    "val_ratio = 0.2\n",
    "test_ratio = 0.1\n",
    "\n",
    "# Ensure output directories exist\n",
    "for directory in [train_dir, val_dir, test_dir]:\n",
    "    os.makedirs(directory, exist_ok=True)\n",
    "\n",
    "# Split dataset\n",
    "for class_name in os.listdir(data_dir):\n",
    "    class_path = os.path.join(data_dir, class_name)\n",
    "    if not os.path.isdir(class_path):\n",
    "        continue\n",
    "\n",
    "    # Create class folders in train, val, and test directories\n",
    "    os.makedirs(os.path.join(train_dir, class_name), exist_ok=True)\n",
    "    os.makedirs(os.path.join(val_dir, class_name), exist_ok=True)\n",
    "    os.makedirs(os.path.join(test_dir, class_name), exist_ok=True)\n",
    "\n",
    "    # Get all files in the class folder and shuffle them\n",
    "    files = os.listdir(class_path)\n",
    "    random.shuffle(files)\n",
    "\n",
    "    # Calculate split indices\n",
    "    total_files = len(files)\n",
    "    train_end = int(total_files * train_ratio)\n",
    "    val_end = train_end + int(total_files * val_ratio)\n",
    "    # Split files into train, val, and test\n",
    "    train_files = files[:train_end]\n",
    "    val_files = files[train_end:val_end]\n",
    "    test_files = files[val_end:]\n",
    "    print(train_files)\n",
    "    # Move files to the corresponding directories\n",
    "    for file in train_files:\n",
    "        shutil.copy(os.path.join(class_path, file), os.path.join(train_dir, class_name, file))\n",
    "    for file in val_files:\n",
    "        shutil.copy(os.path.join(class_path, file), os.path.join(val_dir, class_name, file))\n",
    "    for file in test_files:\n",
    "        shutil.copy(os.path.join(class_path, file), os.path.join(test_dir, class_name, file))\n",
    "\n",
    "print(\"Dataset split completed.\")"
   ]
  }
 ],
 "metadata": {
  "kernelspec": {
   "display_name": "Python 3.10.14 ('base')",
   "language": "python",
   "name": "python3"
  },
  "language_info": {
   "name": "python",
   "version": "3.10.14"
  },
  "orig_nbformat": 4,
  "vscode": {
   "interpreter": {
    "hash": "35a509ea29ee8d317c9df769723ea144fb058c1706813f61960c897488cb84f6"
   }
  }
 },
 "nbformat": 4,
 "nbformat_minor": 2
}
